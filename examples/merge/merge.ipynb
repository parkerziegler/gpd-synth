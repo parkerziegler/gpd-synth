{
 "cells": [
  {
   "cell_type": "code",
   "execution_count": 131,
   "id": "80216fa1",
   "metadata": {},
   "outputs": [],
   "source": [
    "import geopandas\n",
    "import pandas as pd\n",
    "\n",
    "geo_states = geopandas.read_file('./data/tl_2021_us_state.shp')\n",
    "state_shapes = geo_states[['geometry', 'GEOID', 'NAME']]\n",
    "\n",
    "state_finances = pd.read_csv('./data/state_gov_finances.csv')[['GEO_ID', 'AMOUNT', 'YEAR', 'GOVTYPE', 'AGG_DESC']]\n",
    "state_finances = state_finances[\n",
    "    (state_finances['YEAR'] == '2020')\n",
    "    & (state_finances['GOVTYPE'] == '002')\n",
    "    & (state_finances['AGG_DESC'] == 'SF0001')\n",
    "]\n",
    "state_finances.update(\n",
    "    state_finances['GEO_ID'].map(lambda geo_id: geo_id[-2:])\n",
    ")"
   ]
  },
  {
   "cell_type": "code",
   "execution_count": 132,
   "id": "cb7bd9ae",
   "metadata": {
    "scrolled": true
   },
   "outputs": [
    {
     "data": {
      "text/html": [
       "<div>\n",
       "<style scoped>\n",
       "    .dataframe tbody tr th:only-of-type {\n",
       "        vertical-align: middle;\n",
       "    }\n",
       "\n",
       "    .dataframe tbody tr th {\n",
       "        vertical-align: top;\n",
       "    }\n",
       "\n",
       "    .dataframe thead th {\n",
       "        text-align: right;\n",
       "    }\n",
       "</style>\n",
       "<table border=\"1\" class=\"dataframe\">\n",
       "  <thead>\n",
       "    <tr style=\"text-align: right;\">\n",
       "      <th></th>\n",
       "      <th>geometry</th>\n",
       "      <th>GEOID</th>\n",
       "      <th>NAME</th>\n",
       "    </tr>\n",
       "  </thead>\n",
       "  <tbody>\n",
       "    <tr>\n",
       "      <th>0</th>\n",
       "      <td>POLYGON ((-80.85847 37.42831, -80.85856 37.428...</td>\n",
       "      <td>54</td>\n",
       "      <td>West Virginia</td>\n",
       "    </tr>\n",
       "    <tr>\n",
       "      <th>1</th>\n",
       "      <td>MULTIPOLYGON (((-83.10874 24.62949, -83.10711 ...</td>\n",
       "      <td>12</td>\n",
       "      <td>Florida</td>\n",
       "    </tr>\n",
       "    <tr>\n",
       "      <th>2</th>\n",
       "      <td>POLYGON ((-89.17208 37.06831, -89.17296 37.067...</td>\n",
       "      <td>17</td>\n",
       "      <td>Illinois</td>\n",
       "    </tr>\n",
       "    <tr>\n",
       "      <th>3</th>\n",
       "      <td>POLYGON ((-92.74568 45.29604, -92.74629 45.295...</td>\n",
       "      <td>27</td>\n",
       "      <td>Minnesota</td>\n",
       "    </tr>\n",
       "    <tr>\n",
       "      <th>4</th>\n",
       "      <td>POLYGON ((-75.76659 39.37756, -75.76630 39.373...</td>\n",
       "      <td>24</td>\n",
       "      <td>Maryland</td>\n",
       "    </tr>\n",
       "  </tbody>\n",
       "</table>\n",
       "</div>"
      ],
      "text/plain": [
       "                                            geometry GEOID           NAME\n",
       "0  POLYGON ((-80.85847 37.42831, -80.85856 37.428...    54  West Virginia\n",
       "1  MULTIPOLYGON (((-83.10874 24.62949, -83.10711 ...    12        Florida\n",
       "2  POLYGON ((-89.17208 37.06831, -89.17296 37.067...    17       Illinois\n",
       "3  POLYGON ((-92.74568 45.29604, -92.74629 45.295...    27      Minnesota\n",
       "4  POLYGON ((-75.76659 39.37756, -75.76630 39.373...    24       Maryland"
      ]
     },
     "execution_count": 132,
     "metadata": {},
     "output_type": "execute_result"
    }
   ],
   "source": [
    "state_shapes.head()"
   ]
  },
  {
   "cell_type": "code",
   "execution_count": 133,
   "id": "04b85968",
   "metadata": {},
   "outputs": [
    {
     "data": {
      "text/html": [
       "<div>\n",
       "<style scoped>\n",
       "    .dataframe tbody tr th:only-of-type {\n",
       "        vertical-align: middle;\n",
       "    }\n",
       "\n",
       "    .dataframe tbody tr th {\n",
       "        vertical-align: top;\n",
       "    }\n",
       "\n",
       "    .dataframe thead th {\n",
       "        text-align: right;\n",
       "    }\n",
       "</style>\n",
       "<table border=\"1\" class=\"dataframe\">\n",
       "  <thead>\n",
       "    <tr style=\"text-align: right;\">\n",
       "      <th></th>\n",
       "      <th>GEO_ID</th>\n",
       "      <th>AMOUNT</th>\n",
       "      <th>YEAR</th>\n",
       "      <th>GOVTYPE</th>\n",
       "      <th>AGG_DESC</th>\n",
       "    </tr>\n",
       "  </thead>\n",
       "  <tbody>\n",
       "    <tr>\n",
       "      <th>9</th>\n",
       "      <td>01</td>\n",
       "      <td>36908937</td>\n",
       "      <td>2020</td>\n",
       "      <td>002</td>\n",
       "      <td>SF0001</td>\n",
       "    </tr>\n",
       "    <tr>\n",
       "      <th>441</th>\n",
       "      <td>02</td>\n",
       "      <td>10421195</td>\n",
       "      <td>2020</td>\n",
       "      <td>002</td>\n",
       "      <td>SF0001</td>\n",
       "    </tr>\n",
       "    <tr>\n",
       "      <th>873</th>\n",
       "      <td>04</td>\n",
       "      <td>50547601</td>\n",
       "      <td>2020</td>\n",
       "      <td>002</td>\n",
       "      <td>SF0001</td>\n",
       "    </tr>\n",
       "    <tr>\n",
       "      <th>1305</th>\n",
       "      <td>05</td>\n",
       "      <td>28572105</td>\n",
       "      <td>2020</td>\n",
       "      <td>002</td>\n",
       "      <td>SF0001</td>\n",
       "    </tr>\n",
       "    <tr>\n",
       "      <th>1737</th>\n",
       "      <td>06</td>\n",
       "      <td>413372904</td>\n",
       "      <td>2020</td>\n",
       "      <td>002</td>\n",
       "      <td>SF0001</td>\n",
       "    </tr>\n",
       "  </tbody>\n",
       "</table>\n",
       "</div>"
      ],
      "text/plain": [
       "     GEO_ID     AMOUNT  YEAR GOVTYPE AGG_DESC\n",
       "9        01   36908937  2020     002   SF0001\n",
       "441      02   10421195  2020     002   SF0001\n",
       "873      04   50547601  2020     002   SF0001\n",
       "1305     05   28572105  2020     002   SF0001\n",
       "1737     06  413372904  2020     002   SF0001"
      ]
     },
     "execution_count": 133,
     "metadata": {},
     "output_type": "execute_result"
    }
   ],
   "source": [
    "state_finances.head()"
   ]
  },
  {
   "cell_type": "code",
   "execution_count": 134,
   "id": "887b7772",
   "metadata": {},
   "outputs": [],
   "source": [
    "states_with_revenue = state_shapes.merge(state_finances, left_on='GEOID', right_on='GEO_ID')[\n",
    "    ['geometry', 'GEOID', 'NAME', 'AMOUNT']\n",
    "]"
   ]
  },
  {
   "cell_type": "code",
   "execution_count": 135,
   "id": "30134604",
   "metadata": {},
   "outputs": [
    {
     "data": {
      "text/html": [
       "<div>\n",
       "<style scoped>\n",
       "    .dataframe tbody tr th:only-of-type {\n",
       "        vertical-align: middle;\n",
       "    }\n",
       "\n",
       "    .dataframe tbody tr th {\n",
       "        vertical-align: top;\n",
       "    }\n",
       "\n",
       "    .dataframe thead th {\n",
       "        text-align: right;\n",
       "    }\n",
       "</style>\n",
       "<table border=\"1\" class=\"dataframe\">\n",
       "  <thead>\n",
       "    <tr style=\"text-align: right;\">\n",
       "      <th></th>\n",
       "      <th>geometry</th>\n",
       "      <th>GEOID</th>\n",
       "      <th>NAME</th>\n",
       "      <th>AMOUNT</th>\n",
       "    </tr>\n",
       "  </thead>\n",
       "  <tbody>\n",
       "    <tr>\n",
       "      <th>0</th>\n",
       "      <td>POLYGON ((-80.85847 37.42831, -80.85856 37.428...</td>\n",
       "      <td>54</td>\n",
       "      <td>West Virginia</td>\n",
       "      <td>16581140</td>\n",
       "    </tr>\n",
       "    <tr>\n",
       "      <th>1</th>\n",
       "      <td>MULTIPOLYGON (((-83.10874 24.62949, -83.10711 ...</td>\n",
       "      <td>12</td>\n",
       "      <td>Florida</td>\n",
       "      <td>110295047</td>\n",
       "    </tr>\n",
       "    <tr>\n",
       "      <th>2</th>\n",
       "      <td>POLYGON ((-89.17208 37.06831, -89.17296 37.067...</td>\n",
       "      <td>17</td>\n",
       "      <td>Illinois</td>\n",
       "      <td>106590791</td>\n",
       "    </tr>\n",
       "    <tr>\n",
       "      <th>3</th>\n",
       "      <td>POLYGON ((-92.74568 45.29604, -92.74629 45.295...</td>\n",
       "      <td>27</td>\n",
       "      <td>Minnesota</td>\n",
       "      <td>57362323</td>\n",
       "    </tr>\n",
       "    <tr>\n",
       "      <th>4</th>\n",
       "      <td>POLYGON ((-75.76659 39.37756, -75.76630 39.373...</td>\n",
       "      <td>24</td>\n",
       "      <td>Maryland</td>\n",
       "      <td>52422740</td>\n",
       "    </tr>\n",
       "  </tbody>\n",
       "</table>\n",
       "</div>"
      ],
      "text/plain": [
       "                                            geometry GEOID           NAME  \\\n",
       "0  POLYGON ((-80.85847 37.42831, -80.85856 37.428...    54  West Virginia   \n",
       "1  MULTIPOLYGON (((-83.10874 24.62949, -83.10711 ...    12        Florida   \n",
       "2  POLYGON ((-89.17208 37.06831, -89.17296 37.067...    17       Illinois   \n",
       "3  POLYGON ((-92.74568 45.29604, -92.74629 45.295...    27      Minnesota   \n",
       "4  POLYGON ((-75.76659 39.37756, -75.76630 39.373...    24       Maryland   \n",
       "\n",
       "      AMOUNT  \n",
       "0   16581140  \n",
       "1  110295047  \n",
       "2  106590791  \n",
       "3   57362323  \n",
       "4   52422740  "
      ]
     },
     "execution_count": 135,
     "metadata": {},
     "output_type": "execute_result"
    }
   ],
   "source": [
    "states_with_revenue.head()"
   ]
  },
  {
   "cell_type": "code",
   "execution_count": 136,
   "id": "284c78f7",
   "metadata": {},
   "outputs": [
    {
     "data": {
      "text/plain": [
       "geopandas.geodataframe.GeoDataFrame"
      ]
     },
     "execution_count": 136,
     "metadata": {},
     "output_type": "execute_result"
    }
   ],
   "source": [
    "type(states_with_revenue)"
   ]
  },
  {
   "cell_type": "code",
   "execution_count": 139,
   "id": "ca62684b",
   "metadata": {},
   "outputs": [
    {
     "data": {
      "text/plain": [
       "pandas.core.frame.DataFrame"
      ]
     },
     "execution_count": 139,
     "metadata": {},
     "output_type": "execute_result"
    }
   ],
   "source": [
    "states_with_revenue_2 = state_finances.merge(state_shapes, right_on='GEOID', left_on='GEO_ID')\n",
    "type(states_with_revenue_2)"
   ]
  },
  {
   "cell_type": "code",
   "execution_count": 140,
   "id": "340bcb9f",
   "metadata": {},
   "outputs": [
    {
     "data": {
      "text/plain": [
       "geopandas.geodataframe.GeoDataFrame"
      ]
     },
     "execution_count": 140,
     "metadata": {},
     "output_type": "execute_result"
    }
   ],
   "source": [
    "states_with_revenue = state_shapes.merge(state_finances, left_on='GEOID', right_on='GEO_ID')\n",
    "type(states_with_revenue)"
   ]
  },
  {
   "cell_type": "code",
   "execution_count": null,
   "id": "13ed29c9",
   "metadata": {},
   "outputs": [],
   "source": []
  },
  {
   "cell_type": "code",
   "execution_count": null,
   "id": "f3cda907",
   "metadata": {},
   "outputs": [],
   "source": []
  }
 ],
 "metadata": {
  "kernelspec": {
   "display_name": "Python 3 (ipykernel)",
   "language": "python",
   "name": "python3"
  },
  "language_info": {
   "codemirror_mode": {
    "name": "ipython",
    "version": 3
   },
   "file_extension": ".py",
   "mimetype": "text/x-python",
   "name": "python",
   "nbconvert_exporter": "python",
   "pygments_lexer": "ipython3",
   "version": "3.10.4"
  }
 },
 "nbformat": 4,
 "nbformat_minor": 5
}
