{
 "cells": [
  {
   "cell_type": "markdown",
   "id": "e8bba393",
   "metadata": {},
   "source": [
    "**Note**: You must enable JS extensions in Jupyter to see the widget output.\n",
    "\n",
    "```\n",
    "jupyter nbextension enable --py widgetsnbextension\n",
    "```"
   ]
  },
  {
   "cell_type": "code",
   "execution_count": 1,
   "id": "79b61355",
   "metadata": {},
   "outputs": [],
   "source": [
    "import os\n",
    "import sys\n",
    "module_path = os.path.abspath(os.path.join('../../src'))\n",
    "if module_path not in sys.path:\n",
    "    sys.path.append(module_path)"
   ]
  },
  {
   "cell_type": "code",
   "execution_count": 2,
   "id": "f9d05f5e",
   "metadata": {},
   "outputs": [],
   "source": [
    "from widget import synthesize\n",
    "import geopandas as gpd"
   ]
  },
  {
   "cell_type": "code",
   "execution_count": 3,
   "id": "18f17bd3",
   "metadata": {},
   "outputs": [
    {
     "data": {
      "application/vnd.jupyter.widget-view+json": {
       "model_id": "7803ce573030449994c17a4140c7ca6d",
       "version_major": 2,
       "version_minor": 0
      },
      "text/plain": [
       "Output()"
      ]
     },
     "metadata": {},
     "output_type": "display_data"
    },
    {
     "data": {
      "application/vnd.jupyter.widget-view+json": {
       "model_id": "f70be05303d74c3baf29fee6a670fb97",
       "version_major": 2,
       "version_minor": 0
      },
      "text/plain": [
       "HTML(value='')"
      ]
     },
     "metadata": {},
     "output_type": "display_data"
    }
   ],
   "source": [
    "ca_power_plants = gpd.read_file(\n",
    "    os.path.abspath(\"../../examples/sjoin/data/ca-powerplants.geojson\")\n",
    ")\n",
    "ca_counties = gpd.read_file(\n",
    "    os.path.abspath(\"../../examples/sjoin/data/ca-counties.geojson\")\n",
    ")\n",
    "\n",
    "target = gpd.sjoin(ca_counties, ca_power_plants, how=\"left\", predicate=\"within\")\n",
    "\n",
    "input_gdfs = {\n",
    "    'ca_counties': ca_counties,\n",
    "    'ca_power_plants': ca_power_plants,\n",
    "}\n",
    "\n",
    "synthesize(input_gdfs, target)"
   ]
  },
  {
   "cell_type": "code",
   "execution_count": null,
   "id": "39c53af7",
   "metadata": {},
   "outputs": [],
   "source": []
  }
 ],
 "metadata": {
  "kernelspec": {
   "display_name": "Python 3 (ipykernel)",
   "language": "python",
   "name": "python3"
  },
  "language_info": {
   "codemirror_mode": {
    "name": "ipython",
    "version": 3
   },
   "file_extension": ".py",
   "mimetype": "text/x-python",
   "name": "python",
   "nbconvert_exporter": "python",
   "pygments_lexer": "ipython3",
   "version": "3.10.4"
  }
 },
 "nbformat": 4,
 "nbformat_minor": 5
}
